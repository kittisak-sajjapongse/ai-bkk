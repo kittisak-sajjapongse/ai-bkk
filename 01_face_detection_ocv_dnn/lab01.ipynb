{
 "nbformat": 4,
 "nbformat_minor": 2,
 "metadata": {
  "language_info": {
   "name": "python",
   "codemirror_mode": {
    "name": "ipython",
    "version": 3
   },
   "version": "3.7.3-final"
  },
  "orig_nbformat": 2,
  "file_extension": ".py",
  "mimetype": "text/x-python",
  "name": "python",
  "npconvert_exporter": "python",
  "pygments_lexer": "ipython3",
  "version": 3,
  "kernelspec": {
   "name": "python3",
   "display_name": "Python 3"
  }
 },
 "cells": [
  {
   "cell_type": "code",
   "execution_count": 1,
   "metadata": {},
   "outputs": [
    {
     "output_type": "stream",
     "name": "stdout",
     "text": "Hello World\n"
    }
   ],
   "source": [
    "print(\"Hello World\")"
   ]
  },
  {
   "cell_type": "code",
   "execution_count": 2,
   "metadata": {},
   "outputs": [
    {
     "output_type": "execute_result",
     "data": {
      "text/plain": "['d:\\\\Work\\\\Python\\\\ai-bkk\\\\01_face_detection_ocv_dnn',\n 'C:\\\\Users\\\\Loco\\\\AppData\\\\Local\\\\Temp\\\\eb5673c5-355b-462a-af46-a49e89dfa8bc',\n 'c:\\\\Users\\\\Loco\\\\.vscode\\\\extensions\\\\ms-python.python-2020.3.71659\\\\pythonFiles',\n 'c:\\\\Users\\\\Loco\\\\.vscode\\\\extensions\\\\ms-python.python-2020.3.71659\\\\pythonFiles\\\\lib\\\\python',\n 'C:\\\\Users\\\\Loco\\\\anaconda3\\\\python37.zip',\n 'C:\\\\Users\\\\Loco\\\\anaconda3\\\\DLLs',\n 'C:\\\\Users\\\\Loco\\\\anaconda3\\\\lib',\n 'C:\\\\Users\\\\Loco\\\\anaconda3',\n '',\n 'C:\\\\Users\\\\Loco\\\\anaconda3\\\\lib\\\\site-packages',\n 'C:\\\\Users\\\\Loco\\\\anaconda3\\\\lib\\\\site-packages\\\\win32',\n 'C:\\\\Users\\\\Loco\\\\anaconda3\\\\lib\\\\site-packages\\\\win32\\\\lib',\n 'C:\\\\Users\\\\Loco\\\\anaconda3\\\\lib\\\\site-packages\\\\Pythonwin',\n 'C:\\\\Users\\\\Loco\\\\anaconda3\\\\lib\\\\site-packages\\\\IPython\\\\extensions',\n 'C:\\\\Users\\\\Loco\\\\.ipython']"
     },
     "metadata": {},
     "execution_count": 2
    }
   ],
   "source": [
    "import sys\n",
    "sys.path"
   ]
  },
  {
   "cell_type": "markdown",
   "metadata": {},
   "source": [
    "Preview image from *source=\"./iron_chic.jpg\"*\n",
    "\n",
    "![Sample face image](./iron_chic.jpg \"Sample face image\")\n",
    "\n",
    "(You can change by double clicking at the cell, Then press Ctrl+Enter to finish editing)"
   ]
  },
  {
   "cell_type": "code",
   "execution_count": 3,
   "metadata": {},
   "outputs": [],
   "source": [
    "import numpy as np\n",
    "import cv2"
   ]
  },
  {
   "cell_type": "code",
   "execution_count": 4,
   "metadata": {},
   "outputs": [
    {
     "output_type": "stream",
     "name": "stdout",
     "text": "width=500 height=500\n"
    }
   ],
   "source": [
    "# load Image\n",
    "imageFile = \"./iron_chic.jpg\"\n",
    "image = cv2.imread(imageFile)\n",
    "(height, width) = image.shape[:2]\n",
    "print(\"width={0} height={1}\".format(width, height))\n",
    "cv2.imshow(\"Input\", image)\n",
    "cv2.waitKey(0)\n",
    "cv2.destroyAllWindows()"
   ]
  },
  {
   "cell_type": "code",
   "execution_count": 5,
   "metadata": {},
   "outputs": [],
   "source": [
    "# Load Model\n",
    "protoFile = \"./deploy.prototxt.txt\"\n",
    "modelFile = \"./res10_300x300_ssd_iter_140000.caffemodel\"\n",
    "net = cv2.dnn.readNetFromCaffe(protoFile, modelFile)"
   ]
  },
  {
   "cell_type": "code",
   "execution_count": 6,
   "metadata": {},
   "outputs": [],
   "source": [
    "# Resize image to 300x300 pixels to blob object and normalizing\n",
    "outWidth, outHeight = 300, 300\n",
    "resizedImage = cv2.resize(image, (outWidth, outHeight))\n",
    "scale = 1.0\n",
    "mean = (104.0, 177.0, 123.0)\n",
    "blob = cv2.dnn.blobFromImage(resizedImage, scale, (outWidth, outHeight), mean)\n",
    ""
   ]
  },
  {
   "cell_type": "code",
   "execution_count": 7,
   "metadata": {},
   "outputs": [],
   "source": [
    "# Pass the blob through network\n",
    "net.setInput(blob)\n",
    "detections = net.forward()"
   ]
  },
  {
   "cell_type": "code",
   "execution_count": 8,
   "metadata": {},
   "outputs": [
    {
     "output_type": "stream",
     "name": "stdout",
     "text": "numDetections=200\n"
    }
   ],
   "source": [
    "# Set minimum confidence\n",
    "minimumConfidence = 0.5\n",
    "# copy image\n",
    "output = image.copy()\n",
    "\n",
    "# Prepare for drawing\n",
    "borderColor = (255, 0, 255)\n",
    "textColor = (0, 0, 255)\n",
    "font = cv2.FONT_HERSHEY_SIMPLEX\n",
    "fontScale = 0.45\n",
    "thickness = 2\n",
    "# loop over the detections\n",
    "numDetections = detections.shape[2]\n",
    "print(\"numDetections={0}\".format(numDetections))\n",
    "\n",
    "for i in range(0, numDetections):\n",
    "    # extract the confidence associated with the prediction\n",
    "    confidence = detections[0, 0, i, 2]\n",
    "    if confidence > minimumConfidence:\n",
    "        # compute the (x, y)-coordinates of the bounding box for the object\n",
    "        box = detections[0, 0, i, 3:7] * np.array([width, height, width, height])\n",
    "        (startX, startY, endX, endY) = box.astype(\"int\")\n",
    "        # draw rectangle with the associated propbability\n",
    "        cv2.rectangle(output, (startX, startY), (endX, endY), borderColor, thickness)\n",
    "\n",
    "        text = \"{:.2f}%\".format(confidence * 100)\n",
    "        textY = startY - 10 if startY - 10 > 10 else startY + 10\n",
    "        cv2.putText(output, text, (startX, textY), font, fontScale, textColor, thickness)\n",
    "\n",
    "# show the output image\n",
    "cv2.imshow(\"Output\", output)\n",
    "cv2.waitKey(0)\n",
    "cv2.destroyAllWindows()"
   ]
  },
  {
   "cell_type": "code",
   "execution_count": null,
   "metadata": {},
   "outputs": [],
   "source": []
  }
 ]
}